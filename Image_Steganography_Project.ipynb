{
 "cells": [
  {
   "cell_type": "markdown",
   "id": "1df7ba69",
   "metadata": {},
   "source": [
    "#  Hiding Information in an Image Using Steganography\n",
    "\n",
    "### A Project in Python \n",
    "This project demonstrates how to hide and retrieve text messages in an image using the Least Significant Bit (LSB) technique."
   ]
  },
  {
   "cell_type": "code",
   "execution_count": null,
   "id": "7bebc8c1",
   "metadata": {},
   "outputs": [],
   "source": [
    "from PIL import Image\n",
    "import binascii\n"
   ]
  },
  {
   "cell_type": "markdown",
   "id": "17238f07",
   "metadata": {},
   "source": [
    "##  Step 1: Define Functions to Encode and Decode Text in Images"
   ]
  },
  {
   "cell_type": "code",
   "execution_count": null,
   "id": "c368ff98",
   "metadata": {},
   "outputs": [],
   "source": [
    "def to_bin(data):\n",
    "    if isinstance(data, str):\n",
    "        return ''.join([format(ord(i), '08b') for i in data])\n",
    "    elif isinstance(data, bytes) or isinstance(data, bytearray):\n",
    "        return [format(i, '08b') for i in data]\n",
    "    elif isinstance(data, int):\n",
    "        return format(data, '08b')\n",
    "    else:\n",
    "        raise TypeError(\"Unsupported data type.\")\n",
    "\n",
    "def encode_image(img_path, message, output_path):\n",
    "    image = Image.open(img_path)\n",
    "    if image.mode != 'RGB':\n",
    "        raise ValueError(\"Image mode must be RGB.\")\n",
    "\n",
    "    encoded = image.copy()\n",
    "    width, height = image.size\n",
    "    index = 0\n",
    "\n",
    "    message += \"###END###\"\n",
    "    message_bin = to_bin(message)\n",
    "    message_len = len(message_bin)\n",
    "\n",
    "    for row in range(height):\n",
    "        for col in range(width):\n",
    "            if index < message_len:\n",
    "                r, g, b = image.getpixel((col, row))\n",
    "                r_bin = to_bin(r)\n",
    "                r = int(r_bin[:-1] + message_bin[index], 2)\n",
    "                index += 1\n",
    "                if index < message_len:\n",
    "                    g_bin = to_bin(g)\n",
    "                    g = int(g_bin[:-1] + message_bin[index], 2)\n",
    "                    index += 1\n",
    "                if index < message_len:\n",
    "                    b_bin = to_bin(b)\n",
    "                    b = int(b_bin[:-1] + message_bin[index], 2)\n",
    "                    index += 1\n",
    "                encoded.putpixel((col, row), (r, g, b))\n",
    "            else:\n",
    "                break\n",
    "    encoded.save(output_path)\n",
    "    print(f\"✅ Message encoded and saved to {output_path}\")\n"
   ]
  },
  {
   "cell_type": "code",
   "execution_count": null,
   "id": "dd80a174",
   "metadata": {},
   "outputs": [],
   "source": [
    "def decode_image(img_path):\n",
    "    image = Image.open(img_path)\n",
    "    if image.mode != 'RGB':\n",
    "        raise ValueError(\"Image mode must be RGB.\")\n",
    "\n",
    "    binary_data = \"\"\n",
    "    for row in range(image.height):\n",
    "        for col in range(image.width):\n",
    "            r, g, b = image.getpixel((col, row))\n",
    "            binary_data += to_bin(r)[-1]\n",
    "            binary_data += to_bin(g)[-1]\n",
    "            binary_data += to_bin(b)[-1]\n",
    "\n",
    "    all_bytes = [binary_data[i:i+8] for i in range(0, len(binary_data), 8)]\n",
    "    decoded_data = \"\"\n",
    "    for byte in all_bytes:\n",
    "        decoded_data += chr(int(byte, 2))\n",
    "        if decoded_data[-8:] == \"###END###\":\n",
    "            break\n",
    "    return decoded_data[:-8]\n"
   ]
  },
  {
   "cell_type": "markdown",
   "id": "b6c336c0",
   "metadata": {},
   "source": [
    "##  Step 2: Encode a Message into an Image"
   ]
  },
  {
   "cell_type": "code",
   "execution_count": null,
   "id": "adbab121",
   "metadata": {},
   "outputs": [],
   "source": [
    "# Replace with your own image path\n",
    "original_image = 'input_image.png'  # Make sure this file exists\n",
    "output_image = 'encoded_image.png'\n",
    "secret_message = \"Hello, this is a secret message!\"\n",
    "\n",
    "encode_image(original_image, secret_message, output_image)\n"
   ]
  },
  {
   "cell_type": "markdown",
   "id": "bdabf2fa",
   "metadata": {},
   "source": [
    "##  Step 3: Decode the Message from the Image"
   ]
  },
  {
   "cell_type": "code",
   "execution_count": null,
   "id": "c7eb7c0f",
   "metadata": {},
   "outputs": [],
   "source": [
    "decoded_message = decode_image('encoded_image.png')\n",
    "print(\"🔓 Decoded Message:\", decoded_message)\n"
   ]
  },
  {
   "cell_type": "markdown",
   "id": "06c4823e",
   "metadata": {},
   "source": [
    "##  Conclusion\n",
    "This project successfully demonstrates basic image steganography using LSB technique in Python.\n",
    "You can enhance it further with encryption, audio/video steganography, or GUI applications."
   ]
  }
 ],
 "metadata": {
  "language_info": {
   "name": "python"
  }
 },
 "nbformat": 4,
 "nbformat_minor": 5
}
